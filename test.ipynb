{
 "cells": [
  {
   "cell_type": "code",
   "execution_count": 43,
   "metadata": {},
   "outputs": [
    {
     "name": "stdout",
     "output_type": "stream",
     "text": [
      "fo\n",
      "Sdpanda #5730 了\n",
      "濕征點竄專門店 Pho Tai\n",
      "2 (化龍灣)            |\n",
      "4.04.2023 19:44            壤\n",
      "顧客 :\n",
      "SAayL\n",
      "+85297762320\n",
      "\n",
      "          2\n",
      "提取時間                | 安寢\n",
      "\n",
      "19:55          | 罕有2\n",
      "4項目\n",
      "\n",
      "人\n",
      "1lx 香茅豬售肉      $52.00\n",
      "撈榜\n",
      "\n",
      "「\n",
      "\n",
      "2x 疝e  S$104.00 skF\n",
      "\n",
      "1x 火車豆           S70.00 了Me\n",
      "\n",
      "1x檬粉\n",
      "+請提供餐具及/或飲管\n",
      "小計           S$226.00\n",
      "到 增值稅                   -.\n",
      "mi SelviceFee              S5.00 上\n",
      "Pick-Up 20%               -$56.50 區記              :\n",
      "\n",
      "0ff\n",
      "\n",
      "加 總計         $174.50\n",
      "\n",
      "和生\n",
      "\n"
     ]
    }
   ],
   "source": [
    "from PIL import Image\n",
    "import pytesseract as pyt \n",
    "\n",
    "custom_config = r'--oem 1 --psm 1'\n",
    "print(pyt.image_to_string(Image.open('/Users/mic/Desktop/receipt/1adc12fb-f57d-4ec4-940e-6fda7394d81c.jpg'),lang=\"chi_tra\", config=custom_config))"
   ]
  },
  {
   "cell_type": "code",
   "execution_count": null,
   "metadata": {},
   "outputs": [],
   "source": []
  }
 ],
 "metadata": {
  "kernelspec": {
   "display_name": ".pyenv",
   "language": "python",
   "name": "python3"
  },
  "language_info": {
   "codemirror_mode": {
    "name": "ipython",
    "version": 3
   },
   "file_extension": ".py",
   "mimetype": "text/x-python",
   "name": "python",
   "nbconvert_exporter": "python",
   "pygments_lexer": "ipython3",
   "version": "3.9.9"
  },
  "orig_nbformat": 4
 },
 "nbformat": 4,
 "nbformat_minor": 2
}
