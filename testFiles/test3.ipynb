{
  "cells": [
    {
      "cell_type": "code",
      "execution_count": 8,
      "metadata": {},
      "outputs": [
        {
          "name": "stderr",
          "output_type": "stream",
          "text": [
            "CUDA not available - defaulting to CPU. Note: This module is much faster with a GPU.\n"
          ]
        },
        {
          "name": "stdout",
          "output_type": "stream",
          "text": [
            "['Dew>', '惠康 wellcome', '企業匱場51!龜話:23590146', '膠怡di犬', '26. 00', '農幾8熟浪霽辣波浪260', '28. 50', '農心韓國版芊#82026(', '28. 00', '芸食紙30厘來:槳', '25. 00', '不倒弱即食齋司飯2l0G', '19', '00', '維他消心棧蘋果茱莉6包裝', ':}(. 00', '-6. 00', '00', '四海順.風昧魚腐', '25. 00', '四海魚肉春卷', '50. 00', '$27/2', '-16', '00', '傀金額', '262. 50', '促銷優愿總金額', '-52. 00', '冒陳廬付金額', '210. 50', '抹+', '0. 00', 'Co-Brand', '210. 50', '***8**#**#**5856', 'MEiDOWs', 'ESSENT', '$30/2', '炸魚蛋', '25.']\n"
          ]
        }
      ],
      "source": [
        "import easyocr\n",
        "import cv2\n",
        "\n",
        "reader = easyocr.Reader(['ch_tra', 'en'])\n",
        "\n",
        "img = cv2.imread('./testPhotos/cropped05.png')\n",
        "result = reader.readtext(img, detail=0)\n",
        "\n",
        "print(result)"
      ]
    },
    {
      "cell_type": "code",
      "execution_count": 2,
      "metadata": {},
      "outputs": [
        {
          "name": "stderr",
          "output_type": "stream",
          "text": [
            "CUDA not available - defaulting to CPU. Note: This module is much faster with a GPU.\n"
          ]
        },
        {
          "name": "stdout",
          "output_type": "stream",
          "text": [
            "['經典原茶 Classic Tea {1)', '1X', '913古早味冬瓜茶', 'Medium Size', 'No-lce 中杯', '去冰 *仍有少許碎冰 Still', 'some crushed', 'ice*', '70%', 'Less Sugaf 少糖', '數目:', '分類總金額:', '$29 .00', '折扣優惠:', '$5.80', '總共:', '$23', '20']\n"
          ]
        }
      ],
      "source": [
        "import easyocr\n",
        "import cv2\n",
        "\n",
        "reader = easyocr.Reader(['ch_tra', 'en'])\n",
        "\n",
        "#img = cv2.imread('/Users/mic/Desktop/receipt/765e8dc6-a6a2-4871-b2a2-4da735c7e5fe.jpg')\n",
        "result = reader.readtext('/Users/mic/Desktop/Tecky/BAD/BAD-Project/testFiles/testPhotos/cropped08.png',detail=0)\n",
        "\n",
        "print(result)"
      ]
    },
    {
      "cell_type": "markdown",
      "metadata": {},
      "source": []
    },
    {
      "cell_type": "code",
      "execution_count": null,
      "metadata": {},
      "outputs": [],
      "source": []
    }
  ],
  "metadata": {
    "kernelspec": {
      "display_name": ".pyenv",
      "language": "python",
      "name": "python3"
    },
    "language_info": {
      "codemirror_mode": {
        "name": "ipython",
        "version": 3
      },
      "file_extension": ".py",
      "mimetype": "text/x-python",
      "name": "python",
      "nbconvert_exporter": "python",
      "pygments_lexer": "ipython3",
      "version": "3.9.9"
    },
    "orig_nbformat": 4
  },
  "nbformat": 4,
  "nbformat_minor": 2
}
