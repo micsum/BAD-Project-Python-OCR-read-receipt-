{
 "cells": [
  {
   "cell_type": "code",
   "execution_count": 1,
   "metadata": {},
   "outputs": [
    {
     "name": "stderr",
     "output_type": "stream",
     "text": [
      "CUDA not available - defaulting to CPU. Note: This module is much faster with a GPU.\n",
      "Downloading detection model, please wait. This may take several minutes depending upon your network connection.\n"
     ]
    },
    {
     "name": "stdout",
     "output_type": "stream",
     "text": [
      "Progress: |██████████████████████████████████████████████████| 100.0% Complete"
     ]
    },
    {
     "name": "stderr",
     "output_type": "stream",
     "text": [
      "Downloading recognition model, please wait. This may take several minutes depending upon your network connection.\n"
     ]
    },
    {
     "name": "stdout",
     "output_type": "stream",
     "text": [
      "Progress: |██████████████████████████████████████████████████| 100.0% Complete['', '章魚小丸子', '$48.00', '(6粒)', '1x 七味牛肉井', '$85.00', '1x Meko 蜜桃紅', '茶', '2x 滑蛋吉列瀦', '$156.00', '扒井-滑蛋吉', '列瀦扒井', '**多飯', '2x道地鳥龍茶', '1X', '滑蛋吉列蠔', '$78.00', '并-滑蛋吉列', '蠔井', '1xMeko 蜜桃紅', '茶', '**+**請提供餐具及/或飲管', '小計', '$367.00', '增值稅', 'SewiceFee', '$5.00', '25% 0ff $120', '-$91.75', '總計', '$280.30', '1X']\n"
     ]
    }
   ],
   "source": [
    "import easyocr\n",
    "import cv2\n",
    "\n",
    "reader = easyocr.Reader(['ch_tra', 'en'])\n",
    "\n",
    "img = cv2.imread('./testPhotos/foodPandaReceipt280.30_cropped.png')\n",
    "result = reader.readtext(img, detail=0)\n",
    "\n",
    "print(result)"
   ]
  },
  {
   "cell_type": "code",
   "execution_count": 7,
   "metadata": {},
   "outputs": [
    {
     "name": "stderr",
     "output_type": "stream",
     "text": [
      "CUDA not available - defaulting to CPU. Note: This module is much faster with a GPU.\n"
     ]
    },
    {
     "name": "stdout",
     "output_type": "stream",
     "text": [
      "['日式咖喱吉', '$93.00', '列瀦扒蛋蓋飯', '咖喱香煎雞', '$83.00', '滑蛋汁燒鰻', '$94.00', '魚井', '日式炸嵌子', '$45.00', '(5件)', '日式紅焰牛', '$86.00', '肋條飯', '**+#*請提供餐具及/或飲管', '小計', '$401.00', '增值稅', 'SewlceFee', '$5.00', '外賁自取訂單', '-$200.50', '滿$120享', '45%優惠!', 'mc30', '-$30.00', '縛計', '$175.50', '1X', '1X', '扒鳥冬', '1X', '1X', '1X']\n"
     ]
    }
   ],
   "source": [
    "import easyocr\n",
    "import cv2\n",
    "\n",
    "reader = easyocr.Reader(['ch_tra', 'en'])\n",
    "\n",
    "#img = cv2.imread('/Users/mic/Desktop/receipt/765e8dc6-a6a2-4871-b2a2-4da735c7e5fe.jpg')\n",
    "result = reader.readtext('/Users/mic/Desktop/Tecky/BAD/BAD-Project/testFiles/testPhotos/cropped04.png',detail=0)\n",
    "\n",
    "print(result)"
   ]
  },
  {
   "cell_type": "markdown",
   "metadata": {},
   "source": []
  }
 ],
 "metadata": {
  "kernelspec": {
   "display_name": ".pyenv",
   "language": "python",
   "name": "python3"
  },
  "language_info": {
   "codemirror_mode": {
    "name": "ipython",
    "version": 3
   },
   "file_extension": ".py",
   "mimetype": "text/x-python",
   "name": "python",
   "nbconvert_exporter": "python",
   "pygments_lexer": "ipython3",
   "version": "3.9.9"
  },
  "orig_nbformat": 4
 },
 "nbformat": 4,
 "nbformat_minor": 2
}
