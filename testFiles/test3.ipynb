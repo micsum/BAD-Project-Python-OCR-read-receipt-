{
 "cells": [
  {
   "cell_type": "code",
   "execution_count": 1,
   "metadata": {},
   "outputs": [
    {
     "name": "stderr",
     "output_type": "stream",
     "text": [
      "CUDA not available - defaulting to CPU. Note: This module is much faster with a GPU.\n",
      "Downloading detection model, please wait. This may take several minutes depending upon your network connection.\n"
     ]
    },
    {
     "name": "stdout",
     "output_type": "stream",
     "text": [
      "Progress: |██████████████████████████████████████████████████| 100.0% Complete"
     ]
    },
    {
     "name": "stderr",
     "output_type": "stream",
     "text": [
      "Downloading recognition model, please wait. This may take several minutes depending upon your network connection.\n"
     ]
    },
    {
     "name": "stdout",
     "output_type": "stream",
     "text": [
      "Progress: |██████████████████████████████████████████████████| 100.0% Complete['', '章魚小丸子', '$48.00', '(6粒)', '1x 七味牛肉井', '$85.00', '1x Meko 蜜桃紅', '茶', '2x 滑蛋吉列瀦', '$156.00', '扒井-滑蛋吉', '列瀦扒井', '**多飯', '2x道地鳥龍茶', '1X', '滑蛋吉列蠔', '$78.00', '并-滑蛋吉列', '蠔井', '1xMeko 蜜桃紅', '茶', '**+**請提供餐具及/或飲管', '小計', '$367.00', '增值稅', 'SewiceFee', '$5.00', '25% 0ff $120', '-$91.75', '總計', '$280.30', '1X']\n"
     ]
    }
   ],
   "source": [
    "import easyocr\n",
    "import cv2\n",
    "\n",
    "reader = easyocr.Reader(['ch_tra', 'en'])\n",
    "\n",
    "img = cv2.imread('./testPhotos/foodPandaReceipt280.30_cropped.png')\n",
    "result = reader.readtext(img, detail=0)\n",
    "\n",
    "print(result)"
   ]
  },
  {
   "cell_type": "code",
   "execution_count": 6,
   "metadata": {},
   "outputs": [
    {
     "name": "stderr",
     "output_type": "stream",
     "text": [
      "CUDA not available - defaulting to CPU. Note: This module is much faster with a GPU.\n"
     ]
    },
    {
     "name": "stdout",
     "output_type": "stream",
     "text": [
      "['玄滷 Elbyo', '2023', 'fjiw-tvaik', '顧客', 'Sylvia Swen', '巳付款', '巳 AlipayHK支付', '提取時間', '20:03', '4項目', '4', '蔥油雖扒', '$10.00', '煎蛋飯', '1#糖鳥龍茶', '例)', '1)', '', '招牌麻辣', '$58.00', '菜肺肉燥飯', '1 項糖鳥能茶', '(l;)', '4', '蔥油雖扒', '$70.0)0', '煎蛋飯', '無糖綠茶', '例)', '小', '炸鹹蛋流心', '$32.(0', '魚蛋(5粒)', '炯+#*請提供餐具及/或飲管', 'i', '$230.00', '憎值秫', 'ieriicil ee', '$5.00', ':/5\\'\" 1|1 $120', '-$5/.50', \"'3kiy48!11\", '-$2(1.[0', '勰韋', '$157.50', '#_147', 'fcodpanda', ':!.4.04', '19:50', '; )']\n"
     ]
    }
   ],
   "source": [
    "import easyocr\n",
    "import cv2\n",
    "\n",
    "reader = easyocr.Reader(['ch_tra', 'en'])\n",
    "\n",
    "#img = cv2.imread('/Users/mic/Desktop/receipt/765e8dc6-a6a2-4871-b2a2-4da735c7e5fe.jpg')\n",
    "result = reader.readtext('/Users/mic/Desktop/receipt/f9e2b41f-af0d-45c9-a340-0de8c749757e.jpg',detail=0)\n",
    "\n",
    "print(result)"
   ]
  }
 ],
 "metadata": {
  "kernelspec": {
   "display_name": ".pyenv",
   "language": "python",
   "name": "python3"
  },
  "language_info": {
   "codemirror_mode": {
    "name": "ipython",
    "version": 3
   },
   "file_extension": ".py",
   "mimetype": "text/x-python",
   "name": "python",
   "nbconvert_exporter": "python",
   "pygments_lexer": "ipython3",
   "version": "3.10.10"
  },
  "orig_nbformat": 4
 },
 "nbformat": 4,
 "nbformat_minor": 2
}
