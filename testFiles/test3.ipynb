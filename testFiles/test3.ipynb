{
  "cells": [
    {
      "cell_type": "code",
      "execution_count": 8,
      "metadata": {},
      "outputs": [
        {
          "name": "stderr",
          "output_type": "stream",
          "text": [
            "CUDA not available - defaulting to CPU. Note: This module is much faster with a GPU.\n"
          ]
        },
        {
          "name": "stdout",
          "output_type": "stream",
          "text": [
            "['Dew>', '惠康 wellcome', '企業匱場51!龜話:23590146', '膠怡di犬', '26. 00', '農幾8熟浪霽辣波浪260', '28. 50', '農心韓國版芊#82026(', '28. 00', '芸食紙30厘來:槳', '25. 00', '不倒弱即食齋司飯2l0G', '19', '00', '維他消心棧蘋果茱莉6包裝', ':}(. 00', '-6. 00', '00', '四海順.風昧魚腐', '25. 00', '四海魚肉春卷', '50. 00', '$27/2', '-16', '00', '傀金額', '262. 50', '促銷優愿總金額', '-52. 00', '冒陳廬付金額', '210. 50', '抹+', '0. 00', 'Co-Brand', '210. 50', '***8**#**#**5856', 'MEiDOWs', 'ESSENT', '$30/2', '炸魚蛋', '25.']\n"
          ]
        }
      ],
      "source": [
        "import easyocr\n",
        "import cv2\n",
        "\n",
        "reader = easyocr.Reader(['ch_tra', 'en'])\n",
        "\n",
        "img = cv2.imread('./testPhotos/cropped05.png')\n",
        "result = reader.readtext(img, detail=0)\n",
        "\n",
        "print(result)"
      ]
    },
    {
      "cell_type": "code",
      "execution_count": 12,
      "metadata": {},
      "outputs": [
        {
          "name": "stderr",
          "output_type": "stream",
          "text": [
            "CUDA not available - defaulting to CPU. Note: This module is much faster with a GPU.\n"
          ]
        },
        {
          "name": "stdout",
          "output_type": "stream",
          "text": [
            "['Lii', '寸亦捫', '0]~ [0', '8ts+8%\";', 'foodpaffda', '外帶', '//o.001', '#2211', '(z17t)', 'L', '+85297702320', '接單時間 2023|04|27 8:13 下午', '預計取餐', '2023|04|27', '20:28', '訂單備註:+', '斗卡', '請提供餐具及|或', '飲管', '外帶-OO1-交易明細', '#-00004639 2023|04|27 8:14 下午', '品名:', '數(', '單價', '金額', 'B瀦骨湯拉麵', '$107', '$107', 'HK', '8麻辣湯拉麵', '$107', '$107', 'H', 'A', '蟹籽鰻魚茶漬飯配', '', '$107', '$107', 'HK', '玉子燒', 'A', '炭燒雞扒(1塊)', '$50', '$50', 'HK', '王計', '$371.05', 'Foodpanda', '$371.05', 'Stay']\n"
          ]
        }
      ],
      "source": [
        "import easyocr\n",
        "import cv2\n",
        "\n",
        "reader = easyocr.Reader(['ch_tra', 'en'])\n",
        "\n",
        "#img = cv2.imread('/Users/mic/Desktop/receipt/765e8dc6-a6a2-4871-b2a2-4da735c7e5fe.jpg')\n",
        "result = reader.readtext('/Users/mic/Desktop/Tecky/BAD/BAD-Project/testFiles/result.png',detail=0)\n",
        "\n",
        "print(result)"
      ]
    }
  ],
  "metadata": {
    "kernelspec": {
      "display_name": ".pyenv",
      "language": "python",
      "name": "python3"
    },
    "language_info": {
      "codemirror_mode": {
        "name": "ipython",
        "version": 3
      },
      "file_extension": ".py",
      "mimetype": "text/x-python",
      "name": "python",
      "nbconvert_exporter": "python",
      "pygments_lexer": "ipython3",
      "version": "3.9.9"
    },
    "orig_nbformat": 4
  },
  "nbformat": 4,
  "nbformat_minor": 2
}
