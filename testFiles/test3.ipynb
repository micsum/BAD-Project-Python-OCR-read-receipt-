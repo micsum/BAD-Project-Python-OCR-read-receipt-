{
  "cells": [
    {
      "cell_type": "code",
      "execution_count": 1,
      "metadata": {},
      "outputs": [
        {
          "ename": "ValueError",
          "evalue": "Invalid input type. Supporting format = string(file path or url), bytes, numpy array",
          "output_type": "error",
          "traceback": [
            "\u001b[1;31m---------------------------------------------------------------------------\u001b[0m",
            "\u001b[1;31mValueError\u001b[0m                                Traceback (most recent call last)",
            "Cell \u001b[1;32mIn[1], line 7\u001b[0m\n\u001b[0;32m      4\u001b[0m reader \u001b[39m=\u001b[39m easyocr\u001b[39m.\u001b[39mReader([\u001b[39m'\u001b[39m\u001b[39mch_tra\u001b[39m\u001b[39m'\u001b[39m, \u001b[39m'\u001b[39m\u001b[39men\u001b[39m\u001b[39m'\u001b[39m])\n\u001b[0;32m      6\u001b[0m img \u001b[39m=\u001b[39m cv2\u001b[39m.\u001b[39mimread(\u001b[39m'\u001b[39m\u001b[39mC:\u001b[39m\u001b[39m\\\\\u001b[39;00m\u001b[39mUsers\u001b[39m\u001b[39m\\\\\u001b[39;00m\u001b[39mMic\u001b[39m\u001b[39m\\\\\u001b[39;00m\u001b[39mDesktop\u001b[39m\u001b[39m\\\\\u001b[39;00m\u001b[39mTecky\u001b[39m\u001b[39m\\\\\u001b[39;00m\u001b[39mtecky-group-project\u001b[39m\u001b[39m\\\\\u001b[39;00m\u001b[39mBAD-Project\u001b[39m\u001b[39m\\\\\u001b[39;00m\u001b[39muploads\u001b[39m\u001b[39m\\\\\u001b[39;00m\u001b[39mattachment\u001b[39m\u001b[39m\\\\\u001b[39;00m\u001b[39m8b8f50beaadf1f2521c024d03.jpeg\u001b[39m\u001b[39m'\u001b[39m)\n\u001b[1;32m----> 7\u001b[0m result \u001b[39m=\u001b[39m reader\u001b[39m.\u001b[39;49mreadtext(img, detail\u001b[39m=\u001b[39;49m\u001b[39m0\u001b[39;49m)\n\u001b[0;32m      9\u001b[0m \u001b[39mprint\u001b[39m(result)\n",
            "File \u001b[1;32mc:\\Users\\Mic\\Desktop\\Tecky\\tecky-group-project\\BAD-Project\\.venv\\lib\\site-packages\\easyocr\\easyocr.py:442\u001b[0m, in \u001b[0;36mReader.readtext\u001b[1;34m(self, image, decoder, beamWidth, batch_size, workers, allowlist, blocklist, detail, rotation_info, paragraph, min_size, contrast_ths, adjust_contrast, filter_ths, text_threshold, low_text, link_threshold, canvas_size, mag_ratio, slope_ths, ycenter_ths, height_ths, width_ths, y_ths, x_ths, add_margin, threshold, bbox_min_score, bbox_min_size, max_candidates, output_format)\u001b[0m\n\u001b[0;32m    428\u001b[0m \u001b[39mdef\u001b[39;00m \u001b[39mreadtext\u001b[39m(\u001b[39mself\u001b[39m, image, decoder \u001b[39m=\u001b[39m \u001b[39m'\u001b[39m\u001b[39mgreedy\u001b[39m\u001b[39m'\u001b[39m, beamWidth\u001b[39m=\u001b[39m \u001b[39m5\u001b[39m, batch_size \u001b[39m=\u001b[39m \u001b[39m1\u001b[39m,\\\n\u001b[0;32m    429\u001b[0m              workers \u001b[39m=\u001b[39m \u001b[39m0\u001b[39m, allowlist \u001b[39m=\u001b[39m \u001b[39mNone\u001b[39;00m, blocklist \u001b[39m=\u001b[39m \u001b[39mNone\u001b[39;00m, detail \u001b[39m=\u001b[39m \u001b[39m1\u001b[39m,\\\n\u001b[0;32m    430\u001b[0m              rotation_info \u001b[39m=\u001b[39m \u001b[39mNone\u001b[39;00m, paragraph \u001b[39m=\u001b[39m \u001b[39mFalse\u001b[39;00m, min_size \u001b[39m=\u001b[39m \u001b[39m20\u001b[39m,\\\n\u001b[1;32m   (...)\u001b[0m\n\u001b[0;32m    436\u001b[0m              threshold \u001b[39m=\u001b[39m \u001b[39m0.2\u001b[39m, bbox_min_score \u001b[39m=\u001b[39m \u001b[39m0.2\u001b[39m, bbox_min_size \u001b[39m=\u001b[39m \u001b[39m3\u001b[39m, max_candidates \u001b[39m=\u001b[39m \u001b[39m0\u001b[39m,\n\u001b[0;32m    437\u001b[0m              output_format\u001b[39m=\u001b[39m\u001b[39m'\u001b[39m\u001b[39mstandard\u001b[39m\u001b[39m'\u001b[39m):\n\u001b[0;32m    438\u001b[0m \u001b[39m    \u001b[39m\u001b[39m'''\u001b[39;00m\n\u001b[0;32m    439\u001b[0m \u001b[39m    Parameters:\u001b[39;00m\n\u001b[0;32m    440\u001b[0m \u001b[39m    image: file path or numpy-array or a byte stream object\u001b[39;00m\n\u001b[0;32m    441\u001b[0m \u001b[39m    '''\u001b[39;00m\n\u001b[1;32m--> 442\u001b[0m     img, img_cv_grey \u001b[39m=\u001b[39m reformat_input(image)\n\u001b[0;32m    444\u001b[0m     horizontal_list, free_list \u001b[39m=\u001b[39m \u001b[39mself\u001b[39m\u001b[39m.\u001b[39mdetect(img, \n\u001b[0;32m    445\u001b[0m                                              min_size \u001b[39m=\u001b[39m min_size, text_threshold \u001b[39m=\u001b[39m text_threshold,\\\n\u001b[0;32m    446\u001b[0m                                              low_text \u001b[39m=\u001b[39m low_text, link_threshold \u001b[39m=\u001b[39m link_threshold,\\\n\u001b[1;32m   (...)\u001b[0m\n\u001b[0;32m    452\u001b[0m                                              bbox_min_size \u001b[39m=\u001b[39m bbox_min_size, max_candidates \u001b[39m=\u001b[39m max_candidates\n\u001b[0;32m    453\u001b[0m                                              )\n\u001b[0;32m    454\u001b[0m     \u001b[39m# get the 1st result from hor & free list as self.detect returns a list of depth 3\u001b[39;00m\n",
            "File \u001b[1;32mc:\\Users\\Mic\\Desktop\\Tecky\\tecky-group-project\\BAD-Project\\.venv\\lib\\site-packages\\easyocr\\utils.py:725\u001b[0m, in \u001b[0;36mreformat_input\u001b[1;34m(image)\u001b[0m\n\u001b[0;32m    723\u001b[0m     img_cv_grey \u001b[39m=\u001b[39m cv2\u001b[39m.\u001b[39mcvtColor(img, cv2\u001b[39m.\u001b[39mCOLOR_BGR2GRAY)\n\u001b[0;32m    724\u001b[0m \u001b[39melse\u001b[39;00m:\n\u001b[1;32m--> 725\u001b[0m     \u001b[39mraise\u001b[39;00m \u001b[39mValueError\u001b[39;00m(\u001b[39m'\u001b[39m\u001b[39mInvalid input type. Supporting format = string(file path or url), bytes, numpy array\u001b[39m\u001b[39m'\u001b[39m)\n\u001b[0;32m    727\u001b[0m \u001b[39mreturn\u001b[39;00m img, img_cv_grey\n",
            "\u001b[1;31mValueError\u001b[0m: Invalid input type. Supporting format = string(file path or url), bytes, numpy array"
          ]
        }
      ],
      "source": [
        "import easyocr\n",
        "import cv2\n",
        "\n",
        "reader = easyocr.Reader(['ch_tra', 'en'])\n",
        "\n",
        "img = cv2.imread('C:\\\\Users\\\\Mic\\\\Desktop\\\\Tecky\\\\tecky-group-project\\\\BAD-Project\\\\uploads\\\\attachment\\\\8b8f50beaadf1f2521c024d07.jpeg')\n",
        "result = reader.readtext(img, detail=0)\n",
        "\n",
        "print(result)"
      ]
    },
    {
      "cell_type": "code",
      "execution_count": 12,
      "metadata": {},
      "outputs": [
        {
          "name": "stderr",
          "output_type": "stream",
          "text": [
            "CUDA not available - defaulting to CPU. Note: This module is much faster with a GPU.\n"
          ]
        },
        {
          "name": "stdout",
          "output_type": "stream",
          "text": [
            "['Lii', '寸亦捫', '0]~ [0', '8ts+8%\";', 'foodpaffda', '外帶', '//o.001', '#2211', '(z17t)', 'L', '+85297702320', '接單時間 2023|04|27 8:13 下午', '預計取餐', '2023|04|27', '20:28', '訂單備註:+', '斗卡', '請提供餐具及|或', '飲管', '外帶-OO1-交易明細', '#-00004639 2023|04|27 8:14 下午', '品名:', '數(', '單價', '金額', 'B瀦骨湯拉麵', '$107', '$107', 'HK', '8麻辣湯拉麵', '$107', '$107', 'H', 'A', '蟹籽鰻魚茶漬飯配', '', '$107', '$107', 'HK', '玉子燒', 'A', '炭燒雞扒(1塊)', '$50', '$50', 'HK', '王計', '$371.05', 'Foodpanda', '$371.05', 'Stay']\n"
          ]
        }
      ],
      "source": [
        "import easyocr\n",
        "import cv2\n",
        "\n",
        "reader = easyocr.Reader(['ch_tra', 'en'])\n",
        "\n",
        "#img = cv2.imread('/Users/mic/Desktop/receipt/765e8dc6-a6a2-4871-b2a2-4da735c7e5fe.jpg')\n",
        "result = reader.readtext('/Users/mic/Desktop/Tecky/BAD/BAD-Project/testFiles/result.png',detail=0)\n",
        "\n",
        "print(result)"
      ]
    }
  ],
  "metadata": {
    "kernelspec": {
      "display_name": ".pyenv",
      "language": "python",
      "name": "python3"
    },
    "language_info": {
      "codemirror_mode": {
        "name": "ipython",
        "version": 3
      },
      "file_extension": ".py",
      "mimetype": "text/x-python",
      "name": "python",
      "nbconvert_exporter": "python",
      "pygments_lexer": "ipython3",
      "version": "3.10.11"
    },
    "orig_nbformat": 4
  },
  "nbformat": 4,
  "nbformat_minor": 2
}
