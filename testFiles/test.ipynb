{
 "cells": [
  {
   "cell_type": "code",
   "execution_count": 4,
   "metadata": {},
   "outputs": [
    {
     "name": "stdout",
     "output_type": "stream",
     "text": [
      "Wix 得\n",
      "\n",
      "咖喱吉        $93.00\n",
      "列豬扒蛋蓋飯\n",
      "1x 咖喔香煎雞。  $83.00\n",
      "扒烏冬\n",
      "\n",
      "1x 滑蛋汁燒鮑        $94.00\n",
      "魚丼\n",
      "\n",
      "1x 日式炸該子       $45.00\n",
      "(5件)\n",
      "\n",
      "1lx 日式紅炮牛       $86.00\n",
      "肋條飯\n",
      "\n",
      "二+w* 請提供餐具及/或飲管\n",
      "\n",
      "小計         $401.00\n",
      "增值稅            ~\n",
      "ServlceFee                                $5.00\n",
      "外賣自取訂單                    -$8200.50\n",
      "滿$120享\n",
      "\n",
      "45%優惠 !\n",
      "\n",
      "mc30                                      -$30.00\n",
      "\n",
      "細詩 S175.50\n",
      "\n"
     ]
    }
   ],
   "source": [
    "from PIL import Image\n",
    "import pytesseract as pyt \n",
    "\n",
    "custom_config = r'--oem 1 --psm 1'\n",
    "print(pyt.image_to_string(Image.open('/Users/mic/Desktop/Tecky/BAD/BAD-Project/testFiles/testPhotos/cropped04.png'),lang=\"chi_tra\", config=custom_config))"
   ]
  },
  {
   "cell_type": "code",
   "execution_count": null,
   "metadata": {},
   "outputs": [],
   "source": []
  }
 ],
 "metadata": {
  "kernelspec": {
   "display_name": ".pyenv",
   "language": "python",
   "name": "python3"
  },
  "language_info": {
   "codemirror_mode": {
    "name": "ipython",
    "version": 3
   },
   "file_extension": ".py",
   "mimetype": "text/x-python",
   "name": "python",
   "nbconvert_exporter": "python",
   "pygments_lexer": "ipython3",
   "version": "3.9.9"
  },
  "orig_nbformat": 4
 },
 "nbformat": 4,
 "nbformat_minor": 2
}
