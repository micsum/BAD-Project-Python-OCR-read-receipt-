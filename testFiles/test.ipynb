{
 "cells": [
  {
   "cell_type": "code",
   "execution_count": 2,
   "metadata": {},
   "outputs": [
    {
     "name": "stdout",
     "output_type": "stream",
     "text": [
      "  經典原茶 Classlc Tea (1)\n",
      "1x 913古早味位瓜花\n",
      "Medlum Slze, No-LGeG 忠煙,\n",
      "去冰 *仍有少許碎冰 Stl11\n",
      "some_CITuShed 1ce*\n",
      "70W Less-Sugar 少机\n",
      "數目:                     ]\n",
      " 分類總金額:         $29.00\n",
      "區  9           -$5.80\n",
      "總恭:            $23.209\n",
      "點    ,\n",
      "\n"
     ]
    }
   ],
   "source": [
    "from PIL import Image\n",
    "import pytesseract as pyt \n",
    "\n",
    "custom_config = r'--oem 1 --psm 6'\n",
    "a = pyt.image_to_string(Image.open('/Users/mic/Desktop/Tecky/BAD/BAD-Project/testFiles/testPhotos/cropped08.png'),lang=\"chi_tra\", config=custom_config)\n",
    "print(a)\n",
    "a = a.rsplit(\"\\n\")\n",
    "b = \"\"\n",
    "for x in a :\n",
    "    b+=\" \" + x\n"
   ]
  },
  {
   "cell_type": "code",
   "execution_count": null,
   "metadata": {},
   "outputs": [],
   "source": []
  }
 ],
 "metadata": {
  "kernelspec": {
   "display_name": ".pyenv",
   "language": "python",
   "name": "python3"
  },
  "language_info": {
   "codemirror_mode": {
    "name": "ipython",
    "version": 3
   },
   "file_extension": ".py",
   "mimetype": "text/x-python",
   "name": "python",
   "nbconvert_exporter": "python",
   "pygments_lexer": "ipython3",
   "version": "3.9.9"
  },
  "orig_nbformat": 4
 },
 "nbformat": 4,
 "nbformat_minor": 2
}
