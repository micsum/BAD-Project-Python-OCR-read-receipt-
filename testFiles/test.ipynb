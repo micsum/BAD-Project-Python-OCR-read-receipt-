{
 "cells": [
  {
   "cell_type": "code",
   "execution_count": 33,
   "metadata": {},
   "outputs": [
    {
     "name": "stdout",
     "output_type": "stream",
     "text": [
      "New\n",
      "惠康wellcome\n",
      "企業廣場5且 電話:235901人0\n",
      "MEADOWS he               當3\n",
      "ESSENT 腿       大        1     26.00\n",
      "卡               腿机            人\n",
      "傻昌8熱浪香辣波浪2000        呈 2602\n",
      "  心韓暫辛辣麵5X1200      1 28.00\n",
      " 埋食紙30硬米X5米              1 25.00\n",
      " 由 即食詞司 飯2100         2 19.00\n",
      "“淮他清心#    榮莉6包裝    2 36.00\n",
      "30/2 還下        -6.00\n",
      "誕魚蛋                         1 25.00\n",
      "四海順德風                         1 25.00\n",
      "四海魚肉雁大和謹           2 50.00\n",
      "$27/2                  S6100 了\n",
      "續金額         262.50\n",
      "促銷優惠總金額                 -52.00\n",
      "實際應付人金額                   210.50\n",
      "抹零                            0.00\n",
      "Co-Brand      學                    210. 50\n",
      "濕珠二戰率如當泊電漠585B\n",
      "\n"
     ]
    }
   ],
   "source": [
    "from PIL import Image\n",
    "import pytesseract as pyt \n",
    "\n",
    "custom_config = r'--oem 1 --psm 6'\n",
    "a = pyt.image_to_string(Image.open('/Users/mic/Desktop/Tecky/BAD/BAD-Project/testFiles/testPhotos/cropped05.png'),lang=\"chi_tra\", config=custom_config)\n",
    "print(a)\n",
    "a = a.rsplit(\"\\n\")\n",
    "b = \"\"\n",
    "for x in a :\n",
    "    b+=\" \" + x\n"
   ]
  },
  {
   "cell_type": "code",
   "execution_count": null,
   "metadata": {},
   "outputs": [],
   "source": []
  }
 ],
 "metadata": {
  "kernelspec": {
   "display_name": ".pyenv",
   "language": "python",
   "name": "python3"
  },
  "language_info": {
   "codemirror_mode": {
    "name": "ipython",
    "version": 3
   },
   "file_extension": ".py",
   "mimetype": "text/x-python",
   "name": "python",
   "nbconvert_exporter": "python",
   "pygments_lexer": "ipython3",
   "version": "3.9.9"
  },
  "orig_nbformat": 4
 },
 "nbformat": 4,
 "nbformat_minor": 2
}
