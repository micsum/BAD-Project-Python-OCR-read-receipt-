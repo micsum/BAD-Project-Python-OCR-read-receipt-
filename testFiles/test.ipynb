{
 "cells": [
  {
   "cell_type": "code",
   "execution_count": 9,
   "metadata": {},
   "outputs": [
    {
     "name": "stdout",
     "output_type": "stream",
     "text": [
      "| 0N.旋夫\n",
      "和\n",
      "        foodpafa - 外帶\n",
      "No.O01\n",
      "    (z1710\n",
      ",Stay L +85297702320\n",
      "\n",
      "                接單時間 2023/04/27 8:13 下午\n",
      "1 預計取餐:2023/04/27\n",
      "         20:28\n",
      "22028\n",
      "| 訂單備註:+**請提供餐具及/或 .\n",
      "人 飲管\n",
      "1 庚交\n",
      "1外帶-001-交易明細\n",
      "j_.、 #-00004639 2023/04/27 8:14 下午\n",
      "}B 豬骨湯拉麵 1 307 3097 人 |\n",
      "|有 麻練燙拉麵。 1 507 507 償 |\n",
      "1 A 蟹籽炙魚茶漬飯配 1 07 307 . 臣\n",
      "\n",
      "至子燒\n",
      " A 奉燒醫扒(1塊)   1 寺0 .$0 HK\n",
      "[gm$371.05\n",
      "\n",
      "Foodpanda            $37105\n",
      "\n"
     ]
    }
   ],
   "source": [
    "from PIL import Image\n",
    "import pytesseract as pyt \n",
    "\n",
    "custom_config = r'--oem 1 --psm 6'\n",
    "a = pyt.image_to_string(Image.open('/Users/mic/Desktop/Tecky/BAD/BAD-Project/testFiles/result.png'),lang=\"chi_tra\", config=custom_config)\n",
    "print(a)\n",
    "a = a.rsplit(\"\\n\")\n",
    "b = \"\"\n",
    "for x in a :\n",
    "    b+=\" \" + x\n"
   ]
  },
  {
   "cell_type": "code",
   "execution_count": null,
   "metadata": {},
   "outputs": [],
   "source": []
  }
 ],
 "metadata": {
  "kernelspec": {
   "display_name": ".pyenv",
   "language": "python",
   "name": "python3"
  },
  "language_info": {
   "codemirror_mode": {
    "name": "ipython",
    "version": 3
   },
   "file_extension": ".py",
   "mimetype": "text/x-python",
   "name": "python",
   "nbconvert_exporter": "python",
   "pygments_lexer": "ipython3",
   "version": "3.9.9"
  },
  "orig_nbformat": 4
 },
 "nbformat": 4,
 "nbformat_minor": 2
}
