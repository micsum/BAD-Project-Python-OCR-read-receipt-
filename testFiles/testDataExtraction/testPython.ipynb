{
 "cells": [
  {
   "cell_type": "code",
   "execution_count": 1,
   "metadata": {},
   "outputs": [
    {
     "name": "stdout",
     "output_type": "stream",
     "text": [
      " Letter exist : 28\n",
      " Letter  does not exist : -1\n"
     ]
    }
   ],
   "source": [
    "testString = 'this sentence only contains a c e h i l n o s t y'\n",
    "testString.rfind(\"a\")\n",
    "print(f' Letter exist : {testString.rfind(\"a\")}')\n",
    "print(f' Letter does not exist : {testString.rfind(\"b\")}')"
   ]
  }
 ],
 "metadata": {
  "kernelspec": {
   "display_name": ".pyenv",
   "language": "python",
   "name": "python3"
  },
  "language_info": {
   "codemirror_mode": {
    "name": "ipython",
    "version": 3
   },
   "file_extension": ".py",
   "mimetype": "text/x-python",
   "name": "python",
   "nbconvert_exporter": "python",
   "pygments_lexer": "ipython3",
   "version": "3.10.10"
  },
  "orig_nbformat": 4
 },
 "nbformat": 4,
 "nbformat_minor": 2
}
